{
 "cells": [
  {
   "cell_type": "code",
   "execution_count": 70,
   "id": "e9b026f9",
   "metadata": {},
   "outputs": [],
   "source": [
    "import pandas as pd\n",
    "\n",
    "df = pd.read_csv(\"Animal Dataset.csv\")[['Animal','Weight (kg)']]"
   ]
  },
  {
   "cell_type": "code",
   "execution_count": 71,
   "id": "5c793917",
   "metadata": {},
   "outputs": [],
   "source": [
    "df = df[~(df['Weight (kg)'].isin(['Varies','Not Applicable']))]\n",
    "df = df.rename({'Weight (kg)': 'weight'}, axis = 'columns')"
   ]
  },
  {
   "cell_type": "code",
   "execution_count": 72,
   "id": "3a976df7",
   "metadata": {},
   "outputs": [
    {
     "data": {
      "text/plain": [
       "Index(['Animal', 'weight'], dtype='object')"
      ]
     },
     "execution_count": 72,
     "metadata": {},
     "output_type": "execute_result"
    }
   ],
   "source": [
    "df.columns"
   ]
  },
  {
   "cell_type": "code",
   "execution_count": 73,
   "id": "72b8971f",
   "metadata": {},
   "outputs": [],
   "source": [
    "def change_weight(row):\n",
    "    w = row['weight']\n",
    "    w = w.replace(',','')\n",
    "    w = w.replace(' tons', '000')\n",
    "    if w.startswith('Up'):\n",
    "        w = float(w[6:])\n",
    "        return([w*0.9,w])\n",
    "\n",
    "    if '-' in w:\n",
    "        a = w.split(sep = '-')\n",
    "        return([float(a[0]),float(a[1])])\n",
    "    print(w)\n",
    "    return(w)\n",
    "\n",
    "def find_max_weight(row):\n",
    "    return(row['weight'][1])\n",
    "\n",
    "def find_min_weight(row):\n",
    "    return(row['weight'][0])\n",
    "\n",
    "\n",
    "df['weight'] = df.apply(change_weight, axis = 1)\n",
    "df['weight_min'] = df.apply(find_min_weight, axis = 1)\n",
    "df['weight_max'] = df.apply(find_max_weight, axis = 1)\n",
    "\n",
    "df = df.drop('weight', axis = 'columns')"
   ]
  },
  {
   "cell_type": "code",
   "execution_count": null,
   "id": "4821e955",
   "metadata": {},
   "outputs": [],
   "source": []
  }
 ],
 "metadata": {
  "kernelspec": {
   "display_name": "venv",
   "language": "python",
   "name": "python3"
  },
  "language_info": {
   "codemirror_mode": {
    "name": "ipython",
    "version": 3
   },
   "file_extension": ".py",
   "mimetype": "text/x-python",
   "name": "python",
   "nbconvert_exporter": "python",
   "pygments_lexer": "ipython3",
   "version": "3.13.2"
  }
 },
 "nbformat": 4,
 "nbformat_minor": 5
}
